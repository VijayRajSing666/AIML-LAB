{
 "cells": [
  {
   "cell_type": "code",
   "execution_count": 1,
   "id": "9b592c4d",
   "metadata": {},
   "outputs": [
    {
     "name": "stdout",
     "output_type": "stream",
     "text": [
      "Input:\n",
      " [[0.66666667 1.        ]\n",
      " [0.33333333 0.55555556]\n",
      " [1.         0.66666667]]\n",
      "Actual:\n",
      " [[0.92]\n",
      " [0.86]\n",
      " [0.89]]\n",
      "Predicted:\n",
      " [[0.89385274]\n",
      " [0.87991694]\n",
      " [0.89167935]]\n"
     ]
    }
   ],
   "source": [
    "import numpy as np\n",
    "X = np.array(([2,9], [1,5], [3,6]), dtype = float)\n",
    "y = np.array(([.92], [.86], [.89]), dtype = float)\n",
    "X = X/np.amax(X, axis = 0)\n",
    "\n",
    "def sigmoid(x):\n",
    "    return 1/(1+np.exp(-x))\n",
    "\n",
    "def der_sigmoid(x):\n",
    "    return x*(1-x)\n",
    "\n",
    "epoch = 5000\n",
    "lr = 0.01\n",
    "neurons_i = 2\n",
    "neurons_h = 3\n",
    "neurons_o = 1\n",
    "\n",
    "weight_h = np.random.uniform(size=(neurons_i, neurons_h))\n",
    "bias_h = np.random.uniform(size=(1, neurons_h))\n",
    "weight_o = np.random.uniform(size=(neurons_h, neurons_o))\n",
    "bias_o = np.random.uniform(size=(1, neurons_o))\n",
    "\n",
    "for i in range(epoch):\n",
    "    inp_h = np.dot(X, weight_h) + bias_h\n",
    "    out_h = sigmoid(inp_h)\n",
    "    \n",
    "    inp_o = np.dot(out_h, weight_o) + bias_o\n",
    "    out_o = sigmoid(inp_o)\n",
    "    \n",
    "    err_o = y - out_o\n",
    "    grad_o = der_sigmoid(out_o)\n",
    "    delta_o = err_o * grad_o\n",
    "    \n",
    "    err_h = delta_o.dot(weight_o.T)\n",
    "    grad_h = der_sigmoid(out_h)\n",
    "    delta_h = err_h * grad_h\n",
    "    \n",
    "    weight_o += out_h.T.dot(delta_o) * lr\n",
    "    weight_h += X.T.dot(delta_h) * lr\n",
    "    \n",
    "print('Input:\\n', X)\n",
    "print('Actual:\\n', y)\n",
    "print('Predicted:\\n', out_o)"
   ]
  },
  {
   "cell_type": "code",
   "execution_count": null,
   "id": "35cb90bf",
   "metadata": {},
   "outputs": [],
   "source": []
  }
 ],
 "metadata": {
  "kernelspec": {
   "display_name": "Python 3 (ipykernel)",
   "language": "python",
   "name": "python3"
  },
  "language_info": {
   "codemirror_mode": {
    "name": "ipython",
    "version": 3
   },
   "file_extension": ".py",
   "mimetype": "text/x-python",
   "name": "python",
   "nbconvert_exporter": "python",
   "pygments_lexer": "ipython3",
   "version": "3.9.13"
  }
 },
 "nbformat": 4,
 "nbformat_minor": 5
}
