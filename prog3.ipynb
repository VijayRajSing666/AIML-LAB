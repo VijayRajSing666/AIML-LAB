{
 "cells": [
  {
   "cell_type": "code",
   "execution_count": 1,
   "id": "68e5ebc4",
   "metadata": {},
   "outputs": [
    {
     "name": "stdout",
     "output_type": "stream",
     "text": [
      "initial specific hypothesis is = ['0', '0', '0', '0', '0', '0']\n",
      "initial general hypothesis is = [['j', 'j', 'j', 'j', 'j', 'j']]\n",
      "S hypothesis after row 1  = ['Sunny', 'Warm', 'Normal', 'Strong', 'Warm', 'Same']\n",
      "G hyothesis after row  1 = [['j', 'j', 'j', 'j', 'j', 'j']]\n",
      "S hypothesis after row 2  = ['Sunny', 'Warm', '?', 'Strong', 'Warm', 'Same']\n",
      "G hyothesis after row  2 = []\n",
      "S hypothesis after row 3  = ['Sunny', 'Warm', '?', 'Strong', 'Warm', 'Same']\n",
      "G hyothesis after row  3 = [['Sunny', '?', '?', '?', '?', '?'], ['?', 'Warm', '?', '?', '?', '?'], ['?', '?', '?', '?', '?', 'Same']]\n",
      "S hypothesis after row 4  = ['Sunny', 'Warm', '?', 'Strong', '?', '?']\n",
      "G hyothesis after row  4 = [['Sunny', '?', '?', '?', '?', '?'], ['?', 'Warm', '?', '?', '?', '?']]\n",
      "final Shypothesis ['Sunny', 'Warm', '?', 'Strong', '?', '?']\n",
      "final Ghypothesis [['Sunny', '?', '?', '?', '?', '?'], ['?', 'Warm', '?', '?', '?', '?']]\n"
     ]
    }
   ],
   "source": [
    "dataarr=[]\n",
    "with open('enjoysport.csv') as f:\n",
    "    for  line in f:\n",
    "        dataarr.append(line.strip().split(','))\n",
    " \n",
    "rows=len(dataarr)\n",
    "cols=len(dataarr[0])\n",
    "shypo=['0']*(cols-1)\n",
    "ghypo=[['j']*(cols-1)]\n",
    "print(\"initial specific hypothesis is =\",shypo)\n",
    "print(\"initial general hypothesis is =\",ghypo)\n",
    " \n",
    "for x in range(1,rows):\n",
    "    lst=dataarr[x]          \n",
    "    if lst[cols-1]==\"1\":\n",
    "        for i in range(0,cols-1):\n",
    "            if shypo[i]==lst[i]:\n",
    "                continue\n",
    "            shypo[i]='?'if shypo[i]!='0' else lst[i]\n",
    "            for g in ghypo:\n",
    "                if g[i]!='?'and shypo[i]==\"?\":\n",
    "                    ghypo.remove(g)\n",
    " \n",
    "    elif lst[cols-1]==\"0\":\n",
    "        ghypo.clear()\n",
    "        for i in range(0,cols-1):\n",
    "            if lst[i]!= shypo[i] and shypo[i]!='?':\n",
    "                temp_list = ['?'] * i + [shypo[i]] + (['?']*(cols-2-i))\n",
    "                if temp_list not in ghypo:\n",
    "                    ghypo.append(temp_list)\n",
    " \n",
    "    print(\"S hypothesis after row\" , x,\" =\", shypo)\n",
    "    print(\"G hyothesis after row \",x,\"=\",ghypo)\n",
    "print(\"final Shypothesis\",shypo)\n",
    "print (\"final Ghypothesis\",ghypo)  \n"
   ]
  },
  {
   "cell_type": "code",
   "execution_count": null,
   "id": "3d6c4429",
   "metadata": {},
   "outputs": [],
   "source": []
  }
 ],
 "metadata": {
  "kernelspec": {
   "display_name": "Python 3 (ipykernel)",
   "language": "python",
   "name": "python3"
  },
  "language_info": {
   "codemirror_mode": {
    "name": "ipython",
    "version": 3
   },
   "file_extension": ".py",
   "mimetype": "text/x-python",
   "name": "python",
   "nbconvert_exporter": "python",
   "pygments_lexer": "ipython3",
   "version": "3.9.13"
  }
 },
 "nbformat": 4,
 "nbformat_minor": 5
}
